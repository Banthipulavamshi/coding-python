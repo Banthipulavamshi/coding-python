{
 "cells": [
  {
   "cell_type": "code",
   "execution_count": 2,
   "id": "d82689f2-8c54-43ff-b37b-9f77bd65e22f",
   "metadata": {},
   "outputs": [],
   "source": [
    "#1. retuns reverd of a string\n"
   ]
  },
  {
   "cell_type": "code",
   "execution_count": 6,
   "id": "88b1c350-3a15-4d85-bb84-794395515522",
   "metadata": {},
   "outputs": [
    {
     "name": "stdin",
     "output_type": "stream",
     "text": [
      "enter you string vamshi\n"
     ]
    },
    {
     "name": "stdout",
     "output_type": "stream",
     "text": [
      "ihsmav\n"
     ]
    }
   ],
   "source": [
    "string=input('enter your string')\n",
    "reverd_string=string[::-1]\n",
    "print(reverd_string)"
   ]
  },
  {
   "cell_type": "code",
   "execution_count": 15,
   "id": "7ffbf1eb-3cba-470e-948e-95d06aec1587",
   "metadata": {},
   "outputs": [
    {
     "name": "stdin",
     "output_type": "stream",
     "text": [
      "enter your num 43\n"
     ]
    },
    {
     "data": {
      "text/plain": [
       "1849"
      ]
     },
     "execution_count": 15,
     "metadata": {},
     "output_type": "execute_result"
    }
   ],
   "source": [
    "#2. factors of a numbers\n",
    "def square(num):\n",
    "     return num*num\n",
    "    \n",
    "square(num=int(input('enter your num')))"
   ]
  },
  {
   "cell_type": "code",
   "execution_count": 9,
   "id": "5539000a-9ca4-4457-851a-58f54665f398",
   "metadata": {},
   "outputs": [
    {
     "name": "stdin",
     "output_type": "stream",
     "text": [
      "enter your num 4\n",
      "enter your num 5\n",
      "enter your num 3\n"
     ]
    },
    {
     "name": "stdout",
     "output_type": "stream",
     "text": [
      "(num1) is small amoung 3 numbers\n"
     ]
    }
   ],
   "source": [
    "#3. smallest number among three\n",
    "\n",
    "\n",
    "num1=int(input('enter your num'))\n",
    "num2=int(input('enter your num'))\n",
    "num3=int(input('enter your num'))\n",
    "\n",
    "if num1<=num2 or num1<=num3:\n",
    "         print(f'(num1) is small amoung 3 numbers')\n",
    "elif num2<=num3 or num2<=num3:\n",
    "         print (f'(num2) is small amoung 3 numbers')\n",
    "else:\n",
    "    print(f'(num3)is small amoung 3 numbers')"
   ]
  },
  {
   "cell_type": "code",
   "execution_count": 172,
   "id": "040e2253-8294-404a-8834-f15b4e758376",
   "metadata": {},
   "outputs": [
    {
     "name": "stdout",
     "output_type": "stream",
     "text": [
      "smallest in  [3, 4, 5, 6, 7, 76, 65, 4] is\n",
      "3\n"
     ]
    }
   ],
   "source": [
    "#4. smallest elements in list\n",
    "def smallest(list):\n",
    "    small=list[0]\n",
    "    for i in list:\n",
    "        if i<small:\n",
    "            small=i\n",
    "    return small\n",
    " #list       \n",
    "list=[3,4,5,6,7,76,65,4]\n",
    "print(\"smallest in \",list,'is')\n",
    "print(smallest(list))     "
   ]
  },
  {
   "cell_type": "code",
   "execution_count": 190,
   "id": "7e2e094c-abfd-4f99-a6e8-e37171c9d0d3",
   "metadata": {},
   "outputs": [
    {
     "name": "stdout",
     "output_type": "stream",
     "text": [
      "['a', 'h', 'i', 'm', 's', 'v']\n"
     ]
    }
   ],
   "source": [
    "#5. sort characters\n",
    "charracters=['v','a','m','s','h','i']\n",
    "sorted_characters=sorted(charracters)\n",
    "print(sorted_characters)\n"
   ]
  },
  {
   "cell_type": "code",
   "execution_count": 220,
   "id": "35affea4-eaed-49aa-aa30-9e8e96759a73",
   "metadata": {},
   "outputs": [
    {
     "name": "stdin",
     "output_type": "stream",
     "text": [
      "enter your string vamshi\n"
     ]
    },
    {
     "name": "stdout",
     "output_type": "stream",
     "text": [
      "it is a not palindrome\n"
     ]
    }
   ],
   "source": [
    "#6. palindrome\n",
    "string=input('enter your string')\n",
    "def palindrome(string):\n",
    "    return string==string[::-1]\n",
    "\n",
    "if palindrome(string):\n",
    "    print('it is a palindrome')\n",
    "else:\n",
    "    print('it is a not palindrome')"
   ]
  },
  {
   "cell_type": "code",
   "execution_count": 222,
   "id": "5bb47b96-adb9-4798-9f78-03f67ada4fc1",
   "metadata": {},
   "outputs": [
    {
     "name": "stdout",
     "output_type": "stream",
     "text": [
      "{'java', 'c', 'python'}\n"
     ]
    }
   ],
   "source": [
    "#7. remove duplicate from a list\n",
    "list=['python','java','c','python']\n",
    "list2=set(['python','java','c','python'])\n",
    "print(list2)"
   ]
  },
  {
   "cell_type": "code",
   "execution_count": 5,
   "id": "24ec5632-339f-4ba6-be00-24dd0dd6db4c",
   "metadata": {},
   "outputs": [
    {
     "name": "stdin",
     "output_type": "stream",
     "text": [
      "enter your string vamshi\n"
     ]
    },
    {
     "name": "stdout",
     "output_type": "stream",
     "text": [
      "no vowels found in your string\n",
      "vowels a\n",
      "no vowels found in your string\n",
      "no vowels found in your string\n",
      "no vowels found in your string\n",
      "vowels i\n"
     ]
    }
   ],
   "source": [
    "#8. to find vowles\n",
    "string=input('enter your string')\n",
    "vowels=['a','e','i','o','u','A','E','I','O','U']\n",
    "for i in string:\n",
    "    if i in vowels:\n",
    "        print('vowels',i)\n",
    "    else:\n",
    "        print('no vowels found in your string')\n",
    "        \n",
    "\n",
    "\n",
    "        \n",
    "        "
   ]
  },
  {
   "cell_type": "code",
   "execution_count": 11,
   "id": "e4696300-3c69-4df0-8455-57487bdf8ed0",
   "metadata": {},
   "outputs": [
    {
     "name": "stdin",
     "output_type": "stream",
     "text": [
      "enter your string 5\n"
     ]
    },
    {
     "name": "stdout",
     "output_type": "stream",
     "text": [
      "The number of vowels in the word '5' is 0.\n"
     ]
    }
   ],
   "source": [
    "#9. program to Counting Vowels in Word.\n",
    "string=input('enter your string')\n",
    "vowels=['a','e','i','o','u','A','E','I','O','U']\n",
    "def count_vowels(string):\n",
    "    count=0\n",
    "    for i in string:\n",
    "        if i in vowels:\n",
    "            count=+5\n",
    "    return count\n",
    "vowels_count=count_vowels(string)\n",
    "print(f\"The number of vowels in the word '{string}' is {vowels_count}.\")"
   ]
  },
  {
   "cell_type": "code",
   "execution_count": 29,
   "id": "5d08b689-f45b-4c6b-b386-c80738974853",
   "metadata": {},
   "outputs": [
    {
     "name": "stdout",
     "output_type": "stream",
     "text": [
      "76\n"
     ]
    }
   ],
   "source": [
    "#10. maximum number in a list\n",
    "list=[65,76,54,55]\n",
    "list2=max(list)\n",
    "print(list2)"
   ]
  },
  {
   "cell_type": "code",
   "execution_count": 33,
   "id": "cbcf8962-0b71-4f79-91d8-dbd590da165c",
   "metadata": {},
   "outputs": [
    {
     "name": "stdout",
     "output_type": "stream",
     "text": [
      "55\n"
     ]
    }
   ],
   "source": [
    "#11. minimum number in a list\n",
    "list=[56,766,99,55]\n",
    "list2=min(list)\n",
    "print(list2)"
   ]
  },
  {
   "cell_type": "code",
   "execution_count": 35,
   "id": "fa585817-c8f3-4884-9934-4a6886f5f803",
   "metadata": {},
   "outputs": [
    {
     "name": "stdout",
     "output_type": "stream",
     "text": [
      "66\n",
      "54\n"
     ]
    }
   ],
   "source": [
    "#12. swap two numbers without using third variable\n",
    "a=54\n",
    "b=66\n",
    "a,b=b,a\n",
    "print(a)\n",
    "print(b)\n"
   ]
  },
  {
   "cell_type": "code",
   "execution_count": 39,
   "id": "d0dc52cb-97ca-4ff2-9ee2-2f416f1df972",
   "metadata": {},
   "outputs": [
    {
     "name": "stdout",
     "output_type": "stream",
     "text": [
      "vamshi\n"
     ]
    }
   ],
   "source": [
    "#13.copy one string to another string\n",
    "\n",
    "a='vamshi'\n",
    "b=a[0:6]\n",
    "print(b)"
   ]
  },
  {
   "cell_type": "code",
   "execution_count": 45,
   "id": "f7215472-7752-464b-9298-d267955f98d2",
   "metadata": {},
   "outputs": [
    {
     "name": "stdin",
     "output_type": "stream",
     "text": [
      "enter your number 5\n"
     ]
    },
    {
     "name": "stdout",
     "output_type": "stream",
     "text": [
      "5 is a prime number\n"
     ]
    }
   ],
   "source": [
    "#14. check if a number is prime.\n",
    "num=int(input('enter your number'))\n",
    "\n",
    "if num > 1:\n",
    "        for i in range(2 ,num):\n",
    "            if (num % i)==0:\n",
    "                print(num,'is not a prime number')\n",
    "        else:           \n",
    "            print(num,'is a prime number')"
   ]
  },
  {
   "cell_type": "code",
   "execution_count": 53,
   "id": "42e20cd1-1ba9-406f-8ccf-797925ce562a",
   "metadata": {},
   "outputs": [
    {
     "name": "stdin",
     "output_type": "stream",
     "text": [
      "enter your number 55\n"
     ]
    },
    {
     "name": "stdout",
     "output_type": "stream",
     "text": [
      "12696403353658275925965100847566516959580321051449436762275840000000000000\n"
     ]
    }
   ],
   "source": [
    "#15. find the factorial of a number.\n",
    "\n",
    "import math\n",
    "num=int(input('enter your number'))\n",
    "\n",
    "factorial=math.factorial(num)\n",
    "print(factorial)"
   ]
  },
  {
   "cell_type": "code",
   "execution_count": 55,
   "id": "0ac306cd-7395-4da2-a0fa-e7a2434b480a",
   "metadata": {},
   "outputs": [
    {
     "name": "stdin",
     "output_type": "stream",
     "text": [
      "enter your number 55\n",
      "enter your number 99\n"
     ]
    },
    {
     "name": "stdout",
     "output_type": "stream",
     "text": [
      "495\n"
     ]
    }
   ],
   "source": [
    "#16. calculate LCM of given two numbers.\n",
    "import math\n",
    "num1=int(input('enter your number'))\n",
    "num2=int(input('enter your number'))\n",
    "lcm=math.lcm(num1,num2)\n",
    "print(lcm)"
   ]
  },
  {
   "cell_type": "code",
   "execution_count": 59,
   "id": "32255901-9743-4f17-9592-c48eb86137cf",
   "metadata": {},
   "outputs": [
    {
     "name": "stdout",
     "output_type": "stream",
     "text": [
      "siddu\n"
     ]
    }
   ],
   "source": [
    "#17. find the largest element in a list.\n",
    "list=['Nitish','balu','laxman','siddu']\n",
    "\n",
    "largest_element=max(list)\n",
    "print(largest_element)\n"
   ]
  },
  {
   "cell_type": "code",
   "execution_count": 71,
   "id": "118882ae-f6eb-4f09-9d74-3d1e66c668c4",
   "metadata": {},
   "outputs": [
    {
     "name": "stdout",
     "output_type": "stream",
     "text": [
      "common elements between two lists are {'laxman', 'balu'}\n"
     ]
    }
   ],
   "source": [
    "#18. find the common elements between two lists.\n",
    "list1=['Nitish','balu','laxman','bunty','siddu']\n",
    "list2=['lavan','laxman','balu','mani','nikhil']\n",
    "\n",
    "a=set(list1)\n",
    "b=set(list2)\n",
    "\n",
    "common_elements=a.intersection(b)\n",
    "print('common elements between two lists are',common_elements)"
   ]
  },
  {
   "cell_type": "code",
   "execution_count": 77,
   "id": "23fe178d-83f3-486a-9c7e-b43624ace10e",
   "metadata": {},
   "outputs": [
    {
     "name": "stdout",
     "output_type": "stream",
     "text": [
      "4\n"
     ]
    }
   ],
   "source": [
    "#19. Count the Number of Occurrences of a Character in a String.\n",
    "string='vamshi'\n",
    "count=string.count('i')\n",
    "print(i)\n"
   ]
  },
  {
   "cell_type": "code",
   "execution_count": 83,
   "id": "920175ea-c197-4492-ab3d-c6c78cda1dce",
   "metadata": {},
   "outputs": [
    {
     "name": "stdin",
     "output_type": "stream",
     "text": [
      "enter your string 5\n",
      "enter your char 5\n"
     ]
    },
    {
     "name": "stdout",
     "output_type": "stream",
     "text": [
      "1 times\n"
     ]
    }
   ],
   "source": [
    "string=input('enter your string')\n",
    "char=input('enter your char')\n",
    "count=string.count(char)\n",
    "print(count,'times')\n",
    "\n"
   ]
  },
  {
   "cell_type": "code",
   "execution_count": 85,
   "id": "8a89c0fd-b182-409c-a03d-e7bff59bdc90",
   "metadata": {},
   "outputs": [
    {
     "name": "stdin",
     "output_type": "stream",
     "text": [
      "enter number of series you want 10\n"
     ]
    },
    {
     "name": "stdout",
     "output_type": "stream",
     "text": [
      "1 2 3 5 8 13 21 34 55 89 "
     ]
    }
   ],
   "source": [
    "#20. Fibonaaci series\n",
    "n =int(input('enter number of series you want'))\n",
    "num1 = 0\n",
    "num2 = 1\n",
    "next_number = num2 \n",
    "count = 1\n",
    "\n",
    "while count <= n:\n",
    "\tprint(next_number, end=\" \")\n",
    "\tcount += 1\n",
    "\tnum1, num2 = num2, next_number\n",
    "\tnext_number = num1 + num2"
   ]
  },
  {
   "cell_type": "code",
   "execution_count": 87,
   "id": "a986270d-3b69-4e53-b07a-0f9317f60d2b",
   "metadata": {},
   "outputs": [
    {
     "name": "stdout",
     "output_type": "stream",
     "text": [
      "no of open parenthesis 3\n",
      "no of close parenthesis 3\n"
     ]
    }
   ],
   "source": [
    "#21. parenthesis count in a string\n",
    "string='(python)(is)(good)'\n",
    "def count_parenthesis(string):\n",
    "    open_parenthesis=string.count('(')\n",
    "    close_parenthesis=string.count(')')\n",
    "    return open_parenthesis,close_parenthesis\n",
    "\n",
    "open_count,close_count=count_parenthesis(string)\n",
    "print('no of open parenthesis',open_count)\n",
    "print('no of close parenthesis',close_count)"
   ]
  },
  {
   "cell_type": "code",
   "execution_count": 99,
   "id": "f26f8e46-4d68-4038-8585-e4b01cbae084",
   "metadata": {},
   "outputs": [
    {
     "name": "stdout",
     "output_type": "stream",
     "text": [
      "Frequency of each element: {1: 1, 2: 2, 3: 3, 4: 4}\n"
     ]
    }
   ],
   "source": [
    "#22.Write a Python program to count the frequency of each element in a list.\n",
    "def count_frequency(elements):\n",
    "    # Create an empty dictionary to hold the frequency count\n",
    "    frequency = {}\n",
    "    \n",
    "    # Iterate over each element in the list\n",
    "    for element in elements:\n",
    "        # Update the count of the element in the dictionary\n",
    "        if element in frequency:\n",
    "            frequency[element] += 1\n",
    "        else:\n",
    "            frequency[element] = 1\n",
    "    \n",
    "    return frequency\n",
    "\n",
    "# Example usage:\n",
    "elements = [1, 2, 2, 3, 3, 3, 4, 4, 4, 4]\n",
    "\n",
    "frequency = count_frequency(elements)\n",
    "print(\"Frequency of each element:\", frequency)"
   ]
  },
  {
   "cell_type": "code",
   "execution_count": 101,
   "id": "2310b05c-edd8-409b-bb0d-db25c300fca8",
   "metadata": {},
   "outputs": [
    {
     "name": "stdin",
     "output_type": "stream",
     "text": [
      "enter yor string vamshi\n"
     ]
    },
    {
     "name": "stdout",
     "output_type": "stream",
     "text": [
      "first non repeating characters: v\n"
     ]
    }
   ],
   "source": [
    "#23.Find first non repeating characters in a string\n",
    "string=input('enter yor string')\n",
    "l=len(string)\n",
    "flag=0\n",
    "for i in range(l):\n",
    "    flag=0\n",
    "    for j in range(l):\n",
    "        if string[i] == string[j] and i!= j:\n",
    "            flag=1\n",
    "            break\n",
    "    if flag==0:\n",
    "        print('first non repeating characters:',string[i])\n",
    "        break\n",
    "if flag== 1:\n",
    "    print('No non repeating characters')"
   ]
  },
  {
   "cell_type": "code",
   "execution_count": null,
   "id": "29e58962-ffb8-4097-9f17-d6c9359d1899",
   "metadata": {},
   "outputs": [],
   "source": []
  }
 ],
 "metadata": {
  "kernelspec": {
   "display_name": "Python 3 (ipykernel)",
   "language": "python",
   "name": "python3"
  },
  "language_info": {
   "codemirror_mode": {
    "name": "ipython",
    "version": 3
   },
   "file_extension": ".py",
   "mimetype": "text/x-python",
   "name": "python",
   "nbconvert_exporter": "python",
   "pygments_lexer": "ipython3",
   "version": "3.12.4"
  }
 },
 "nbformat": 4,
 "nbformat_minor": 5
}
