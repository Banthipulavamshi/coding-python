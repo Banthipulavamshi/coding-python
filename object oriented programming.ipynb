{
 "cells": [
  {
   "cell_type": "markdown",
   "id": "17ca7015-2616-4ec7-b6fd-ef80e52d9157",
   "metadata": {},
   "source": [
    "# Python Object Oriented Programming\r\n"
   ]
  },
  {
   "cell_type": "markdown",
   "id": "43607e89-3143-46d7-a53a-5811857ca240",
   "metadata": {},
   "source": [
    "### Python OOPs Concepts\r\n"
   ]
  },
  {
   "cell_type": "markdown",
   "id": "14bca505-5883-4447-a673-1e16a34f3eec",
   "metadata": {},
   "source": [
    ". Python is a versatile programming language that supports various programming styles, including object-oriented programming (OOP) through the use of objects and classes.\n",
    "\n",
    ".Object Oriented Programming is a fundamental concept in Python, empowering developers to build modular, maintainable, and scalable applications. By understanding the core OOP principles—classes, objects, inheritance, encapsulation, polymorphism, and abstraction—programmers can leverage the full potential of Python’s OOP capabilities to design elegant and efficient solutions to complex problems."
   ]
  },
  {
   "cell_type": "markdown",
   "id": "eba668cc-135d-4922-8a4f-87f0deaaad7e",
   "metadata": {},
   "source": [
    "## What is Object-Oriented Programming in Python?"
   ]
  },
  {
   "attachments": {},
   "cell_type": "markdown",
   "id": "07fa8a3e-058d-415f-a490-35c55d147e94",
   "metadata": {},
   "source": [
    ". In Python object-oriented Programming (OOPs) is a programming paradigm that uses objects and classes in programming. It aims to implement real-world entities like inheritance, polymorphisms, encapsulation, etc. in the programming.\n",
    "\n",
    ". The main concept of object-oriented Programming (OOPs) or oops concepts in Python is to bind the data and the functions that work together as a single unit so that no other part of the code can access this data\r\n",
    "\n",
    "g"
   ]
  },
  {
   "cell_type": "code",
   "execution_count": null,
   "id": "822bacfc-04f6-4d48-b944-043d844c2159",
   "metadata": {},
   "outputs": [],
   "source": []
  }
 ],
 "metadata": {
  "kernelspec": {
   "display_name": "Python 3 (ipykernel)",
   "language": "python",
   "name": "python3"
  },
  "language_info": {
   "codemirror_mode": {
    "name": "ipython",
    "version": 3
   },
   "file_extension": ".py",
   "mimetype": "text/x-python",
   "name": "python",
   "nbconvert_exporter": "python",
   "pygments_lexer": "ipython3",
   "version": "3.12.4"
  }
 },
 "nbformat": 4,
 "nbformat_minor": 5
}
